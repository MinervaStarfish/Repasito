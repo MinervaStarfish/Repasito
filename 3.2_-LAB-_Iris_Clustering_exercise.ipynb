{
  "nbformat": 4,
  "nbformat_minor": 0,
  "metadata": {
    "colab": {
      "provenance": []
    },
    "kernelspec": {
      "name": "python3",
      "display_name": "Python 3"
    },
    "language_info": {
      "name": "python"
    }
  },
  "cells": [
    {
      "cell_type": "markdown",
      "source": [
        "# **Curso de Inteligencia Artificial**\n",
        "---\n",
        "<div style=\"width: 100%; clear: both;\">\n",
        "<div style=\"float: left; width: 50%;\">\n",
        "<img src=\"https://github.com/AntonioEscamilla/images-in-readMe/raw/master/Curso%20IA/upb%20logo.jpg\", align=\"left\", width=\"350\">\n",
        "</div>\n",
        "\n",
        "### **Facultad en Tecnologías de la Información y la Comunicación**\n",
        "\n",
        "### Escuela de Ingenierías\n",
        "\n",
        "### Universidad Pontificia Bolivariana\n",
        "\n",
        "---\n",
        "\n",
        "## **Docente: Ph.D. Antonio Escamilla**"
      ],
      "metadata": {
        "id": "_q1hX_-3yTMV"
      }
    },
    {
      "cell_type": "markdown",
      "source": [
        "## Acerca del Conjunto de Datos Iris: Un Caso Práctico para Clustering Particional\n",
        "\n",
        "### Descripción General\n",
        "\n",
        "El conjunto de datos Iris es un clásico en el ámbito de la ciencia de datos y el aprendizaje automático. Originalmente recopilado por el estadístico Ronald Fisher, este dataset contiene información sobre tres especies de iris (Setosa, Versicolor y Virginica). Para cada especie, se han medido cuatro atributos numéricos:\n",
        "\n",
        "* Longitud del sépalo: Distancia desde la base al extremo del sépalo.\n",
        "* Ancho del sépalo: Ancho del sépalo en su punto más ancho.\n",
        "* Longitud del pétalo: Distancia desde la base al extremo del pétalo.\n",
        "* Ancho del pétalo: Ancho del pétalo en su punto más ancho.\n",
        "\n",
        "### Objetivo del Ejercicio\n",
        "En este ejercicio, utilizaremos el conjunto de datos Iris como un caso práctico para aplicar técnicas de clustering particional. El objetivo principal es agrupar automáticamente las flores de iris en grupos distintos basados en sus características morfológicas. Al realizar este análisis, buscamos descubrir si las medidas de los sépalos y pétalos pueden revelar patrones naturales de agrupamiento que coincidan con las especies conocidas."
      ],
      "metadata": {
        "id": "hgSehYRPyTU2"
      }
    },
    {
      "cell_type": "markdown",
      "source": [
        "## Tarea 1: Preparación del entorno y carga de datos\n",
        "\n",
        "1. Importa las bibliotecas necesarias (pandas, sklearn, matplotlib, seaborn).\n",
        "2. Descarga el dataset Iris y cárgalo en un DataFrame de pandas.\n",
        "3. Muestra las primeras filas del DataFrame para familiarizarte con los datos.\n",
        "\n",
        "> **Nota**: Asegúrate de entender la estructura del dataset. ¿Cuántas características tiene? ¿Cuál es la variable objetivo?"
      ],
      "metadata": {
        "id": "39u2-E__x6pj"
      }
    },
    {
      "cell_type": "code",
      "execution_count": 2,
      "metadata": {
        "id": "oKAsN_lex14B",
        "colab": {
          "base_uri": "https://localhost:8080/"
        },
        "outputId": "6f859216-e36a-48f4-9820-a38e6ef194e7"
      },
      "outputs": [
        {
          "output_type": "stream",
          "name": "stdout",
          "text": [
            "Descargando Assets a Colab\n",
            "iris.csv            100%[===================>]   4.51K  --.-KB/s    in 0s      \n"
          ]
        }
      ],
      "source": [
        "print(\"Descargando Assets a Colab\")\n",
        "!wget --quiet --show-progress --output-document=iris.csv https://drive.google.com/uc?id=1-Vb6SsZxV1JVxWncToHcCXB0eu62Qvju&export=download"
      ]
    },
    {
      "cell_type": "code",
      "source": [
        "# SU CODIGO AQUI"
      ],
      "metadata": {
        "id": "FFM_P4IEy4Mr"
      },
      "execution_count": null,
      "outputs": []
    },
    {
      "cell_type": "markdown",
      "source": [
        "## Tarea 2: Exploración inicial de los datos\n",
        "\n",
        "**Crea un gráfico circular que muestre la distribución de las especies de Iris en el dataset.**\n",
        "\n",
        "\n",
        "**Reflexión:**\n",
        "* ¿Están las clases balanceadas?\n",
        "* ¿Cómo podría esto afectar nuestro análisis de clustering?"
      ],
      "metadata": {
        "id": "Sz0afi8Fxn96"
      }
    },
    {
      "cell_type": "code",
      "source": [
        "# SU CODIGO AQUI"
      ],
      "metadata": {
        "id": "79hvDiKj6JkO"
      },
      "execution_count": null,
      "outputs": []
    },
    {
      "cell_type": "markdown",
      "source": [
        "## Tarea 3: Preparación de los datos para clustering\n",
        "\n",
        "1. Separa las características del DataFrame, excluyendo la columna 'species'.\n",
        "2. Normaliza los datos utilizando MinMaxScaler.\n",
        "3. Muestra las primeras filas de los datos normalizados.\n",
        "\n",
        "> **Importante**: ¿Por qué es necesario normalizar los datos antes de aplicar el algoritmo de clustering?"
      ],
      "metadata": {
        "id": "wMi6TDYqyVoH"
      }
    },
    {
      "cell_type": "code",
      "source": [
        "from sklearn.preprocessing import MinMaxScaler\n",
        "\n",
        "# Copiar los datos y excluir 'species' creando un nuevo dataFrame\n",
        "# SU CODIGO AQUI\n",
        "\n",
        "# Normalizar los datos\n",
        "# SU CODIGO AQUI"
      ],
      "metadata": {
        "id": "pGpHPFU4_M11"
      },
      "execution_count": null,
      "outputs": []
    },
    {
      "cell_type": "markdown",
      "source": [
        "## Tarea 4: Determinación del número óptimo de clusters\n",
        "\n",
        "1. Implementa el método del codo utilizando la métrica de silueta:\n",
        "   - Itera sobre un rango de números de clusters (por ejemplo, de 2 a 14).\n",
        "   - Para cada número de clusters, ajusta un modelo KMeans y calcula el coeficiente de silueta.\n",
        "   - Almacena los resultados en una lista.\n",
        "\n",
        "2. Grafica el número de clusters vs. el coeficiente de silueta.\n",
        "\n",
        "> **Análisis**: Observa el gráfico. ¿Cuál parece ser el número óptimo de clusters? ¿Por qué?"
      ],
      "metadata": {
        "id": "SVr72Pi5ytZI"
      }
    },
    {
      "cell_type": "code",
      "source": [
        "# import libraries\n",
        "# SU CODIGO AQUI\n",
        "\n",
        "# Kmeans Clustering\n",
        "ks = range(2, 15) # crear valores del 3 al 15\n",
        "silhouette = []\n",
        "\n",
        "# SU CODIGO AQUI"
      ],
      "metadata": {
        "id": "wSmRpOi8kPMv"
      },
      "execution_count": null,
      "outputs": []
    },
    {
      "cell_type": "code",
      "source": [
        "import matplotlib.pyplot as plt\n",
        "\n",
        "# Graficar cantidad de clusters vs inertias\n",
        "# SU CODIGO AQUI"
      ],
      "metadata": {
        "id": "Dbjv6ko3x_5E"
      },
      "execution_count": null,
      "outputs": []
    },
    {
      "cell_type": "markdown",
      "source": [
        "3. Repite el proceso utilizando la inercia como métrica.\n",
        "4. Grafica el número de clusters vs. la inercia.\n",
        "\n",
        "> **Comparación**: ¿Cómo se comparan los resultados de la métrica de silueta y la inercia? ¿Sugieren el mismo número óptimo de clusters?"
      ],
      "metadata": {
        "id": "s89qq6OczCzt"
      }
    },
    {
      "cell_type": "code",
      "source": [
        "#Kmeans Clustering\n",
        "ks = range(2, 15) # crear valores del 3 al 15\n",
        "inertias = []\n",
        "\n",
        "# SU CODIGO AQUI"
      ],
      "metadata": {
        "id": "0l6xww_9rBJs"
      },
      "execution_count": null,
      "outputs": []
    },
    {
      "cell_type": "code",
      "source": [
        "# Graficar cantidad de clusters vs inertias\n",
        "\n",
        "# SU CODIGO AQUI"
      ],
      "metadata": {
        "id": "h-1f-FZXrfRQ"
      },
      "execution_count": null,
      "outputs": []
    },
    {
      "cell_type": "markdown",
      "source": [
        "## Analizando la Discrepancia entre el Método del Codo y el Coeficiente de Silueta en el Conjunto de Datos Iris\n",
        "\n",
        "### ¿Qué Significa Cada Métrica?\n",
        "* **Inertia**\n",
        "* **Coeficiente Silouette**\n",
        "\n",
        "### ¿Por qué la Discrepancia?.\n",
        "* **Analiza la Naturaleza de los datos:** El conjunto de datos Iris es relativamente simple, pero puede haber cierta superposición entre las especies, lo que dificulta la clara separación en clusters.\n",
        "* **Limitaciones de las métricas:** Tanto el método del codo como el coeficiente de silueta tienen sus limitaciones. El primero puede ser sensible a la escala de los datos, y el segundo puede subestimar el número de clusters en datos densos.\n",
        "\n",
        "### En este caso específico:\n",
        "\n",
        "Dado que el conjunto de datos Iris tiene tres especies conocidas, el valor de **k = 3** parece ser más intuitivo. Sin embargo, si la visualización sugiere una clara separación en dos grupos y el coeficiente de silueta es consistentemente alto para **k = 2**, podrías considerar esta opción.\n",
        "\n",
        "\n"
      ],
      "metadata": {
        "id": "oEAi9WH8kF2s"
      }
    },
    {
      "cell_type": "markdown",
      "source": [
        "## Tarea 5: Aplicación del algoritmo K-means\n",
        "\n",
        "1. Basándote en tu análisis anterior, elige un número de clusters (el ejemplo usa k=3).\n",
        "2. Crea y ajusta un modelo KMeans con el número de clusters elegido."
      ],
      "metadata": {
        "id": "RAJI0SmvzN8l"
      }
    },
    {
      "cell_type": "code",
      "source": [
        "# Instanciar el modelo y ajustar a los datos\n",
        "# SU CODIGO AQUI"
      ],
      "metadata": {
        "id": "nyaaTyxUdhaX"
      },
      "execution_count": null,
      "outputs": []
    },
    {
      "cell_type": "markdown",
      "source": [
        "## Tarea 6: Análisis de los resultados\n",
        "\n",
        "1. Transforma inversamente los centroides para obtenerlos en la escala original de los datos.\n",
        "2. Muestra los centroides redondeados a un decimal.\n",
        "\n",
        "> **Interpretación**: ¿Qué representan estos centroides en el contexto del dataset Iris?"
      ],
      "metadata": {
        "id": "rIVV5gw0zlsQ"
      }
    },
    {
      "cell_type": "code",
      "source": [
        "# Se realiza una transformación inversa de los centroides\n",
        "# SU CODIGO AQUI\n",
        "\n",
        "# Crear un DataFrame para visualizar centroides\n",
        "# SU CODIGO AQUI"
      ],
      "metadata": {
        "id": "e8mVYYsZd5bi"
      },
      "execution_count": null,
      "outputs": []
    },
    {
      "cell_type": "markdown",
      "source": [
        "3. Asigna los clusters a los datos originales y muestra las primeras filas del DataFrame resultante.\n",
        "4. Crea un gráfico circular que muestre la distribución de los registros en cada cluster.\n",
        "\n",
        "> **Reflexión**: ¿Cómo se compara esta distribución con la distribución original de las especies?"
      ],
      "metadata": {
        "id": "0fESXkxOzvOK"
      }
    },
    {
      "cell_type": "code",
      "source": [
        "# Cluster asignado a cada registro en los datos originales\n",
        "# SU CODIGO AQUI"
      ],
      "metadata": {
        "id": "_2qiMM_Xfcur"
      },
      "execution_count": null,
      "outputs": []
    },
    {
      "cell_type": "code",
      "source": [
        "# Mostrar la distribución de datos en cada cluster\n",
        "# SU CODIGO AQUI"
      ],
      "metadata": {
        "id": "Mc_DwdsBfyUk"
      },
      "execution_count": null,
      "outputs": []
    },
    {
      "cell_type": "markdown",
      "source": [
        "## Tarea 7: Visualización de los clusters\n",
        "\n",
        "1. Crea un gráfico de dispersión de 'sepal_length' vs 'petal_length', coloreando los puntos según el cluster asignado.\n",
        "2. Añade los centroides al gráfico con un color y marcador distintivos.\n",
        "3. Repite el proceso para 'sepal_width' vs 'petal_width'."
      ],
      "metadata": {
        "id": "5GbJvSU6pb1v"
      }
    },
    {
      "cell_type": "code",
      "source": [
        "import seaborn as sns\n",
        "import matplotlib.pyplot as plt\n",
        "\n",
        "# Usa seaborn para el scatterplot, utilizando el parametro 'hue' para colorear los puntos segun el cluster\n",
        "# SU CODIGO AQUI\n",
        "\n",
        "# Scatterplot para graficar los centroides con un color y marcador distintivos\n",
        "# SU CODIGO AQUI"
      ],
      "metadata": {
        "id": "Gg0fAdYbncc6"
      },
      "execution_count": null,
      "outputs": []
    },
    {
      "cell_type": "code",
      "source": [
        "# Repite lo anterior para sepal_width' vs 'petal_width'\n",
        "\n",
        "# Usa seaborn para el scatterplot, utilizando el parametro 'hue' para colorear los puntos segun el cluster\n",
        "# SU CODIGO AQUI\n",
        "\n",
        "# Scatterplot para graficar los centroides con un color y marcador distintivos\n",
        "# SU CODIGO AQUI"
      ],
      "metadata": {
        "id": "JvbXv84ape0K"
      },
      "execution_count": null,
      "outputs": []
    }
  ]
}