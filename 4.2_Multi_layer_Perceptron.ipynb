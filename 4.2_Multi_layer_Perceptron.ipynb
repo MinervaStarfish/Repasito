{
  "nbformat": 4,
  "nbformat_minor": 0,
  "metadata": {
    "colab": {
      "provenance": []
    },
    "kernelspec": {
      "name": "python3",
      "display_name": "Python 3"
    },
    "language_info": {
      "name": "python"
    }
  },
  "cells": [
    {
      "cell_type": "markdown",
      "source": [
        "# **Curso de Inteligencia Artificial**\n",
        "---\n",
        "<div style=\"width: 100%; clear: both;\">\n",
        "<div style=\"float: left; width: 50%;\">\n",
        "<img src=\"https://github.com/AntonioEscamilla/images-in-readMe/raw/master/Curso%20IA/upb%20logo.jpg\", align=\"left\", width=\"350\">\n",
        "</div>\n",
        "\n",
        "### **Facultad en Tecnologías de la Información y la Comunicación**\n",
        "\n",
        "### Escuela de Ingenierías\n",
        "\n",
        "### Universidad Pontificia Bolivariana\n",
        "\n",
        "---\n",
        "\n",
        "## **Docente: Ph.D. Antonio Escamilla**"
      ],
      "metadata": {
        "id": "2wz3KupkH1FS"
      }
    },
    {
      "cell_type": "markdown",
      "source": [
        "# **Redes Neuronales: Perceptrón Multi-capa**\n",
        "\n",
        "En este cuaderno, se cubriran los siguientes temas:\n",
        "\n",
        "### 1. Perceptrón Multi-capa para clasificación binaria\n",
        "\n",
        "\n",
        "*   Descenso del Gradiente Estocástico\n",
        "*   Tasa de Aprendizaje Adaptativa\n",
        "\n",
        "\n",
        "### 2. Perceptrón Multi-capa para problemas de regresión\n",
        "\n",
        "\n",
        "*   Curva de Pérdida\n",
        "*   Representación de Pesos en la Red\n",
        "\n",
        "\n",
        "\n",
        "---\n"
      ],
      "metadata": {
        "id": "qgd0vy8AIJDM"
      }
    },
    {
      "cell_type": "markdown",
      "source": [
        "# 1. Perceptrón Multi-capa para clasificación binaria"
      ],
      "metadata": {
        "id": "KK4npnzRIkMQ"
      }
    },
    {
      "cell_type": "markdown",
      "source": [
        "## Acerca del Conjunto de Datos\n",
        "### Introducción\n",
        "Este es un archivo csv que contiene información relacionada con 5172 archivos de correo electrónico seleccionados al azar y sus respectivas etiquetas para clasificación de spam o no spam.\n",
        "\n",
        "### Acerca del Conjunto de Datos\n",
        "El archivo csv contiene 5172 filas, cada fila para cada correo electrónico. Hay 3002 columnas. La primera columna indica el nombre del correo electrónico. El nombre se ha establecido con números y no con nombres de destinatarios para proteger la privacidad. La última columna tiene las etiquetas para la predicción: 1 para spam, 0 para no spam. Las 3000 columnas restantes son las 3000 palabras más comunes en todos los correos electrónicos, después de excluir los caracteres/palabras no alfabéticos. Para cada fila, se almacena en las celdas respectivas el recuento de cada palabra (columna) en ese correo electrónico (fila). Por lo tanto, la información sobre los 5172 correos electrónicos se almacena en un marco de datos compacto en lugar de como archivos de texto separados.\n"
      ],
      "metadata": {
        "id": "F1x1MEtfI-cC"
      }
    },
    {
      "cell_type": "code",
      "source": [
        "import pandas as pd\n",
        "import numpy as np\n",
        "from sklearn.neural_network import MLPClassifier"
      ],
      "metadata": {
        "id": "-eAbhaAnIhDE"
      },
      "execution_count": null,
      "outputs": []
    },
    {
      "cell_type": "code",
      "source": [
        "print(\"Descargando Assets a Colab\")\n",
        "!wget --quiet --show-progress --output-document=emails.csv https://drive.google.com/uc?id=1e74lWI-di-Ryjj9KhKlFz2FOxv1qliaX&export=download"
      ],
      "metadata": {
        "colab": {
          "base_uri": "https://localhost:8080/"
        },
        "id": "PjIw_aMzKP1O",
        "outputId": "3d047e41-d2ec-4976-eb5c-5332a68b68d9"
      },
      "execution_count": null,
      "outputs": [
        {
          "output_type": "stream",
          "name": "stdout",
          "text": [
            "Descargando Assets a Colab\n",
            "emails.csv          100%[===================>]  29.79M  98.2MB/s    in 0.3s    \n"
          ]
        }
      ]
    },
    {
      "cell_type": "code",
      "execution_count": null,
      "metadata": {
        "colab": {
          "base_uri": "https://localhost:8080/",
          "height": 235
        },
        "id": "Oato6wyeH0HO",
        "outputId": "a00e3080-25ec-45dd-a776-a048379a5d3f"
      },
      "outputs": [
        {
          "output_type": "execute_result",
          "data": {
            "text/plain": [
              "  Email No.  the  to  ect  and  for  of    a  you  hou  ...  connevey  jay  \\\n",
              "0   Email 1    0   0    1    0    0   0    2    0    0  ...         0    0   \n",
              "1   Email 2    8  13   24    6    6   2  102    1   27  ...         0    0   \n",
              "2   Email 3    0   0    1    0    0   0    8    0    0  ...         0    0   \n",
              "3   Email 4    0   5   22    0    5   1   51    2   10  ...         0    0   \n",
              "4   Email 5    7   6   17    1    5   2   57    0    9  ...         0    0   \n",
              "\n",
              "   valued  lay  infrastructure  military  allowing  ff  dry  Prediction  \n",
              "0       0    0               0         0         0   0    0           0  \n",
              "1       0    0               0         0         0   1    0           0  \n",
              "2       0    0               0         0         0   0    0           0  \n",
              "3       0    0               0         0         0   0    0           0  \n",
              "4       0    0               0         0         0   1    0           0  \n",
              "\n",
              "[5 rows x 3002 columns]"
            ],
            "text/html": [
              "\n",
              "  <div id=\"df-b94d4b21-4d87-4a85-b5a1-2479bc792590\" class=\"colab-df-container\">\n",
              "    <div>\n",
              "<style scoped>\n",
              "    .dataframe tbody tr th:only-of-type {\n",
              "        vertical-align: middle;\n",
              "    }\n",
              "\n",
              "    .dataframe tbody tr th {\n",
              "        vertical-align: top;\n",
              "    }\n",
              "\n",
              "    .dataframe thead th {\n",
              "        text-align: right;\n",
              "    }\n",
              "</style>\n",
              "<table border=\"1\" class=\"dataframe\">\n",
              "  <thead>\n",
              "    <tr style=\"text-align: right;\">\n",
              "      <th></th>\n",
              "      <th>Email No.</th>\n",
              "      <th>the</th>\n",
              "      <th>to</th>\n",
              "      <th>ect</th>\n",
              "      <th>and</th>\n",
              "      <th>for</th>\n",
              "      <th>of</th>\n",
              "      <th>a</th>\n",
              "      <th>you</th>\n",
              "      <th>hou</th>\n",
              "      <th>...</th>\n",
              "      <th>connevey</th>\n",
              "      <th>jay</th>\n",
              "      <th>valued</th>\n",
              "      <th>lay</th>\n",
              "      <th>infrastructure</th>\n",
              "      <th>military</th>\n",
              "      <th>allowing</th>\n",
              "      <th>ff</th>\n",
              "      <th>dry</th>\n",
              "      <th>Prediction</th>\n",
              "    </tr>\n",
              "  </thead>\n",
              "  <tbody>\n",
              "    <tr>\n",
              "      <th>0</th>\n",
              "      <td>Email 1</td>\n",
              "      <td>0</td>\n",
              "      <td>0</td>\n",
              "      <td>1</td>\n",
              "      <td>0</td>\n",
              "      <td>0</td>\n",
              "      <td>0</td>\n",
              "      <td>2</td>\n",
              "      <td>0</td>\n",
              "      <td>0</td>\n",
              "      <td>...</td>\n",
              "      <td>0</td>\n",
              "      <td>0</td>\n",
              "      <td>0</td>\n",
              "      <td>0</td>\n",
              "      <td>0</td>\n",
              "      <td>0</td>\n",
              "      <td>0</td>\n",
              "      <td>0</td>\n",
              "      <td>0</td>\n",
              "      <td>0</td>\n",
              "    </tr>\n",
              "    <tr>\n",
              "      <th>1</th>\n",
              "      <td>Email 2</td>\n",
              "      <td>8</td>\n",
              "      <td>13</td>\n",
              "      <td>24</td>\n",
              "      <td>6</td>\n",
              "      <td>6</td>\n",
              "      <td>2</td>\n",
              "      <td>102</td>\n",
              "      <td>1</td>\n",
              "      <td>27</td>\n",
              "      <td>...</td>\n",
              "      <td>0</td>\n",
              "      <td>0</td>\n",
              "      <td>0</td>\n",
              "      <td>0</td>\n",
              "      <td>0</td>\n",
              "      <td>0</td>\n",
              "      <td>0</td>\n",
              "      <td>1</td>\n",
              "      <td>0</td>\n",
              "      <td>0</td>\n",
              "    </tr>\n",
              "    <tr>\n",
              "      <th>2</th>\n",
              "      <td>Email 3</td>\n",
              "      <td>0</td>\n",
              "      <td>0</td>\n",
              "      <td>1</td>\n",
              "      <td>0</td>\n",
              "      <td>0</td>\n",
              "      <td>0</td>\n",
              "      <td>8</td>\n",
              "      <td>0</td>\n",
              "      <td>0</td>\n",
              "      <td>...</td>\n",
              "      <td>0</td>\n",
              "      <td>0</td>\n",
              "      <td>0</td>\n",
              "      <td>0</td>\n",
              "      <td>0</td>\n",
              "      <td>0</td>\n",
              "      <td>0</td>\n",
              "      <td>0</td>\n",
              "      <td>0</td>\n",
              "      <td>0</td>\n",
              "    </tr>\n",
              "    <tr>\n",
              "      <th>3</th>\n",
              "      <td>Email 4</td>\n",
              "      <td>0</td>\n",
              "      <td>5</td>\n",
              "      <td>22</td>\n",
              "      <td>0</td>\n",
              "      <td>5</td>\n",
              "      <td>1</td>\n",
              "      <td>51</td>\n",
              "      <td>2</td>\n",
              "      <td>10</td>\n",
              "      <td>...</td>\n",
              "      <td>0</td>\n",
              "      <td>0</td>\n",
              "      <td>0</td>\n",
              "      <td>0</td>\n",
              "      <td>0</td>\n",
              "      <td>0</td>\n",
              "      <td>0</td>\n",
              "      <td>0</td>\n",
              "      <td>0</td>\n",
              "      <td>0</td>\n",
              "    </tr>\n",
              "    <tr>\n",
              "      <th>4</th>\n",
              "      <td>Email 5</td>\n",
              "      <td>7</td>\n",
              "      <td>6</td>\n",
              "      <td>17</td>\n",
              "      <td>1</td>\n",
              "      <td>5</td>\n",
              "      <td>2</td>\n",
              "      <td>57</td>\n",
              "      <td>0</td>\n",
              "      <td>9</td>\n",
              "      <td>...</td>\n",
              "      <td>0</td>\n",
              "      <td>0</td>\n",
              "      <td>0</td>\n",
              "      <td>0</td>\n",
              "      <td>0</td>\n",
              "      <td>0</td>\n",
              "      <td>0</td>\n",
              "      <td>1</td>\n",
              "      <td>0</td>\n",
              "      <td>0</td>\n",
              "    </tr>\n",
              "  </tbody>\n",
              "</table>\n",
              "<p>5 rows × 3002 columns</p>\n",
              "</div>\n",
              "    <div class=\"colab-df-buttons\">\n",
              "\n",
              "  <div class=\"colab-df-container\">\n",
              "    <button class=\"colab-df-convert\" onclick=\"convertToInteractive('df-b94d4b21-4d87-4a85-b5a1-2479bc792590')\"\n",
              "            title=\"Convert this dataframe to an interactive table.\"\n",
              "            style=\"display:none;\">\n",
              "\n",
              "  <svg xmlns=\"http://www.w3.org/2000/svg\" height=\"24px\" viewBox=\"0 -960 960 960\">\n",
              "    <path d=\"M120-120v-720h720v720H120Zm60-500h600v-160H180v160Zm220 220h160v-160H400v160Zm0 220h160v-160H400v160ZM180-400h160v-160H180v160Zm440 0h160v-160H620v160ZM180-180h160v-160H180v160Zm440 0h160v-160H620v160Z\"/>\n",
              "  </svg>\n",
              "    </button>\n",
              "\n",
              "  <style>\n",
              "    .colab-df-container {\n",
              "      display:flex;\n",
              "      gap: 12px;\n",
              "    }\n",
              "\n",
              "    .colab-df-convert {\n",
              "      background-color: #E8F0FE;\n",
              "      border: none;\n",
              "      border-radius: 50%;\n",
              "      cursor: pointer;\n",
              "      display: none;\n",
              "      fill: #1967D2;\n",
              "      height: 32px;\n",
              "      padding: 0 0 0 0;\n",
              "      width: 32px;\n",
              "    }\n",
              "\n",
              "    .colab-df-convert:hover {\n",
              "      background-color: #E2EBFA;\n",
              "      box-shadow: 0px 1px 2px rgba(60, 64, 67, 0.3), 0px 1px 3px 1px rgba(60, 64, 67, 0.15);\n",
              "      fill: #174EA6;\n",
              "    }\n",
              "\n",
              "    .colab-df-buttons div {\n",
              "      margin-bottom: 4px;\n",
              "    }\n",
              "\n",
              "    [theme=dark] .colab-df-convert {\n",
              "      background-color: #3B4455;\n",
              "      fill: #D2E3FC;\n",
              "    }\n",
              "\n",
              "    [theme=dark] .colab-df-convert:hover {\n",
              "      background-color: #434B5C;\n",
              "      box-shadow: 0px 1px 3px 1px rgba(0, 0, 0, 0.15);\n",
              "      filter: drop-shadow(0px 1px 2px rgba(0, 0, 0, 0.3));\n",
              "      fill: #FFFFFF;\n",
              "    }\n",
              "  </style>\n",
              "\n",
              "    <script>\n",
              "      const buttonEl =\n",
              "        document.querySelector('#df-b94d4b21-4d87-4a85-b5a1-2479bc792590 button.colab-df-convert');\n",
              "      buttonEl.style.display =\n",
              "        google.colab.kernel.accessAllowed ? 'block' : 'none';\n",
              "\n",
              "      async function convertToInteractive(key) {\n",
              "        const element = document.querySelector('#df-b94d4b21-4d87-4a85-b5a1-2479bc792590');\n",
              "        const dataTable =\n",
              "          await google.colab.kernel.invokeFunction('convertToInteractive',\n",
              "                                                    [key], {});\n",
              "        if (!dataTable) return;\n",
              "\n",
              "        const docLinkHtml = 'Like what you see? Visit the ' +\n",
              "          '<a target=\"_blank\" href=https://colab.research.google.com/notebooks/data_table.ipynb>data table notebook</a>'\n",
              "          + ' to learn more about interactive tables.';\n",
              "        element.innerHTML = '';\n",
              "        dataTable['output_type'] = 'display_data';\n",
              "        await google.colab.output.renderOutput(dataTable, element);\n",
              "        const docLink = document.createElement('div');\n",
              "        docLink.innerHTML = docLinkHtml;\n",
              "        element.appendChild(docLink);\n",
              "      }\n",
              "    </script>\n",
              "  </div>\n",
              "\n",
              "\n",
              "<div id=\"df-3fac9fb9-5963-47e6-ab14-1563fa88889c\">\n",
              "  <button class=\"colab-df-quickchart\" onclick=\"quickchart('df-3fac9fb9-5963-47e6-ab14-1563fa88889c')\"\n",
              "            title=\"Suggest charts\"\n",
              "            style=\"display:none;\">\n",
              "\n",
              "<svg xmlns=\"http://www.w3.org/2000/svg\" height=\"24px\"viewBox=\"0 0 24 24\"\n",
              "     width=\"24px\">\n",
              "    <g>\n",
              "        <path d=\"M19 3H5c-1.1 0-2 .9-2 2v14c0 1.1.9 2 2 2h14c1.1 0 2-.9 2-2V5c0-1.1-.9-2-2-2zM9 17H7v-7h2v7zm4 0h-2V7h2v10zm4 0h-2v-4h2v4z\"/>\n",
              "    </g>\n",
              "</svg>\n",
              "  </button>\n",
              "\n",
              "<style>\n",
              "  .colab-df-quickchart {\n",
              "      --bg-color: #E8F0FE;\n",
              "      --fill-color: #1967D2;\n",
              "      --hover-bg-color: #E2EBFA;\n",
              "      --hover-fill-color: #174EA6;\n",
              "      --disabled-fill-color: #AAA;\n",
              "      --disabled-bg-color: #DDD;\n",
              "  }\n",
              "\n",
              "  [theme=dark] .colab-df-quickchart {\n",
              "      --bg-color: #3B4455;\n",
              "      --fill-color: #D2E3FC;\n",
              "      --hover-bg-color: #434B5C;\n",
              "      --hover-fill-color: #FFFFFF;\n",
              "      --disabled-bg-color: #3B4455;\n",
              "      --disabled-fill-color: #666;\n",
              "  }\n",
              "\n",
              "  .colab-df-quickchart {\n",
              "    background-color: var(--bg-color);\n",
              "    border: none;\n",
              "    border-radius: 50%;\n",
              "    cursor: pointer;\n",
              "    display: none;\n",
              "    fill: var(--fill-color);\n",
              "    height: 32px;\n",
              "    padding: 0;\n",
              "    width: 32px;\n",
              "  }\n",
              "\n",
              "  .colab-df-quickchart:hover {\n",
              "    background-color: var(--hover-bg-color);\n",
              "    box-shadow: 0 1px 2px rgba(60, 64, 67, 0.3), 0 1px 3px 1px rgba(60, 64, 67, 0.15);\n",
              "    fill: var(--button-hover-fill-color);\n",
              "  }\n",
              "\n",
              "  .colab-df-quickchart-complete:disabled,\n",
              "  .colab-df-quickchart-complete:disabled:hover {\n",
              "    background-color: var(--disabled-bg-color);\n",
              "    fill: var(--disabled-fill-color);\n",
              "    box-shadow: none;\n",
              "  }\n",
              "\n",
              "  .colab-df-spinner {\n",
              "    border: 2px solid var(--fill-color);\n",
              "    border-color: transparent;\n",
              "    border-bottom-color: var(--fill-color);\n",
              "    animation:\n",
              "      spin 1s steps(1) infinite;\n",
              "  }\n",
              "\n",
              "  @keyframes spin {\n",
              "    0% {\n",
              "      border-color: transparent;\n",
              "      border-bottom-color: var(--fill-color);\n",
              "      border-left-color: var(--fill-color);\n",
              "    }\n",
              "    20% {\n",
              "      border-color: transparent;\n",
              "      border-left-color: var(--fill-color);\n",
              "      border-top-color: var(--fill-color);\n",
              "    }\n",
              "    30% {\n",
              "      border-color: transparent;\n",
              "      border-left-color: var(--fill-color);\n",
              "      border-top-color: var(--fill-color);\n",
              "      border-right-color: var(--fill-color);\n",
              "    }\n",
              "    40% {\n",
              "      border-color: transparent;\n",
              "      border-right-color: var(--fill-color);\n",
              "      border-top-color: var(--fill-color);\n",
              "    }\n",
              "    60% {\n",
              "      border-color: transparent;\n",
              "      border-right-color: var(--fill-color);\n",
              "    }\n",
              "    80% {\n",
              "      border-color: transparent;\n",
              "      border-right-color: var(--fill-color);\n",
              "      border-bottom-color: var(--fill-color);\n",
              "    }\n",
              "    90% {\n",
              "      border-color: transparent;\n",
              "      border-bottom-color: var(--fill-color);\n",
              "    }\n",
              "  }\n",
              "</style>\n",
              "\n",
              "  <script>\n",
              "    async function quickchart(key) {\n",
              "      const quickchartButtonEl =\n",
              "        document.querySelector('#' + key + ' button');\n",
              "      quickchartButtonEl.disabled = true;  // To prevent multiple clicks.\n",
              "      quickchartButtonEl.classList.add('colab-df-spinner');\n",
              "      try {\n",
              "        const charts = await google.colab.kernel.invokeFunction(\n",
              "            'suggestCharts', [key], {});\n",
              "      } catch (error) {\n",
              "        console.error('Error during call to suggestCharts:', error);\n",
              "      }\n",
              "      quickchartButtonEl.classList.remove('colab-df-spinner');\n",
              "      quickchartButtonEl.classList.add('colab-df-quickchart-complete');\n",
              "    }\n",
              "    (() => {\n",
              "      let quickchartButtonEl =\n",
              "        document.querySelector('#df-3fac9fb9-5963-47e6-ab14-1563fa88889c button');\n",
              "      quickchartButtonEl.style.display =\n",
              "        google.colab.kernel.accessAllowed ? 'block' : 'none';\n",
              "    })();\n",
              "  </script>\n",
              "</div>\n",
              "\n",
              "    </div>\n",
              "  </div>\n"
            ],
            "application/vnd.google.colaboratory.intrinsic+json": {
              "type": "dataframe",
              "variable_name": "data"
            }
          },
          "metadata": {},
          "execution_count": 3
        }
      ],
      "source": [
        "data=pd.read_csv('emails.csv')\n",
        "data.head()"
      ]
    },
    {
      "cell_type": "code",
      "source": [
        "# Eliminamos las columnas innecesarias\n",
        "data.drop(columns=['Email No.'], inplace=True)\n",
        "data.head()"
      ],
      "metadata": {
        "id": "0QCex58nOzM-"
      },
      "execution_count": null,
      "outputs": []
    },
    {
      "cell_type": "markdown",
      "source": [
        "## Preparación de Datos"
      ],
      "metadata": {
        "id": "EIrWGllxRCt3"
      }
    },
    {
      "cell_type": "code",
      "source": [
        "data.info()"
      ],
      "metadata": {
        "id": "fksi5DALO-d0"
      },
      "execution_count": null,
      "outputs": []
    },
    {
      "cell_type": "code",
      "source": [
        "data.isnull().any().value_counts()          # Columnas con valores nulos y columnas con valores no nulos"
      ],
      "metadata": {
        "id": "SzseRvP9PY-i"
      },
      "execution_count": null,
      "outputs": []
    },
    {
      "cell_type": "code",
      "source": [
        "# Todas las columnas excepto 'Prediction'\n",
        "X = data.drop('Prediction', axis=1)\n",
        "\n",
        "# Solo la columna 'Prediction'\n",
        "y = data['Prediction']\n",
        "\n",
        "print(X.shape, y.shape)"
      ],
      "metadata": {
        "id": "zf1lm3AMRMQM"
      },
      "execution_count": null,
      "outputs": []
    },
    {
      "cell_type": "markdown",
      "source": [
        "## Escalamiento de las variables de entrada\n",
        "\n",
        "El tipo de escalamiento puede estar relacionado con el tipo de función de activación utilizada en una red neuronal. Las funciones de activación juegan un papel crucial en cómo se propagan y transforman las señales a través de las diferentes capas de una red neuronal, y esto puede influir en la forma en que se preprocesan los datos.\n",
        "\n",
        "**Funciones de activación sigmoide y tanh:** Estas funciones son sensibles a la escala de los datos. Si los datos de entrada no están en una escala apropiada (por ejemplo, si tienen una amplia gama de valores), las activaciones pueden saturarse en los extremos, lo que dificulta el entrenamiento. En tales casos, la estandarización de los datos puede ser beneficiosa para evitar este problema.\n",
        "\n",
        "Al estandarizar los datos (es decir, hacer que tengan una media de cero y una desviación estándar de uno), se coloca la mayoría de los datos dentro del rango donde la función sigmoide tiene una pendiente razonable. Esto puede ayudar a evitar problemas de saturación y mejorar la convergencia del modelo durante el entrenamiento.\n",
        "\n",
        "**Función de activación ReLU (Rectified Linear Unit):** ReLU es menos sensible a la escala de los datos en comparación con las funciones sigmoide y tanh. Sin embargo, puede sufrir del problema de \"mortalidad de neuronas\" si las entradas son negativas. La normalización, especialmente la normalización de lotes, puede ayudar a mitigar este problema al mantener la distribución de las activaciones más estable durante el entrenamiento."
      ],
      "metadata": {
        "id": "fCYvE00TTYpa"
      }
    },
    {
      "cell_type": "code",
      "source": [
        "from sklearn.preprocessing import StandardScaler\n",
        "from sklearn.model_selection import train_test_split\n",
        "\n",
        "# Dividir los datos en conjuntos de entrenamiento y prueba\n",
        "# SU CÓDIGO AQUI\n",
        "\n",
        "# Escalar los datos, el modelo solo ve datos de entrenamiento\n",
        "# SU CÓDIGO AQUI"
      ],
      "metadata": {
        "id": "gNnrhaFMTJhv"
      },
      "execution_count": null,
      "outputs": []
    },
    {
      "cell_type": "markdown",
      "source": [
        "## Creación del modelo y entrenamiento del MLP\n",
        "\n",
        "\n",
        "### Argumentos de MLPClassifier\n",
        "\n",
        "- **solver:** Este parámetro especifica el algoritmo de optimización utilizado para entrenar la red neuronal.\n",
        "\n",
        "    - **'sgd':** Indica que se utiliza el descenso de gradiente estocástico (Stochastic Gradient Descent).\n",
        "    - **'adam':** Se refiere a un optimizador basado en descenso de gradiente estocástico propuesto por Kingma, Diederik y Jimmy Ba.\n",
        "\n",
        "> Para entender mejor el concepto de Stochastic Gradient Descent, es importante resaltar la diferencia entre (Batch, Mini-Batch y Stochastic) Gradient Descent. Los invito a ver este video: [Gradiente Descendente: Batch vs Estocástico vs Mini-batch](https://youtu.be/Bap0WNIaYHQ)\n",
        ">\n",
        ">\n",
        "> Para una comparación entre el optimizador Adam y SGD, consulte [Comparación de estrategias de aprendizaje estocástico para MLPClassifier](https://scikit-learn.org/stable/auto_examples/neural_networks/plot_mlp_training_curves.html#sphx-glr-auto-examples-neural-networks-plot-mlp-training-curves-py).\n",
        "\n",
        "\n",
        "- **activation:** Este parámetro especifica la función de activación utilizada en las capas ocultas de la red neuronal.\n",
        "\n",
        "    - **'identity':** Función de activación lineal.\n",
        "    - **'logistic':** Función logística. Útil para problemas de clasificación binaria.\n",
        "    - **'tanh':** Función tangente hiperbólica. Útil para problemas de clasificación y regresión.\n",
        "    - **'relu':** Unidad lineal rectificada. Especialmente útil en redes neuronales profundas debido a su capacidad para mitigar el problema de gradiente desvaneciente.\n",
        "\n",
        "- **hidden_layer_sizes:** Este parámetro especifica la arquitectura de la red neuronal, es decir, el número de neuronas en cada capa oculta.\n",
        "\n",
        "- **learning_rate:** Este parámetro controla la tasa de aprendizaje utilizada durante el entrenamiento. `'adaptive'` indica que la tasa de aprendizaje se adaptará durante el entrenamiento según el progreso del modelo.\n",
        "\n",
        "- **learning_rate_init:** Este parámetro especifica la tasa de aprendizaje inicial.\n",
        "\n",
        "#### **Nota:**\n",
        "Estos son los principales argumentos utilizados para configurar el MLPClassifier en scikit-learn. Ajustar estos parámetros puede afectar significativamente el rendimiento y la convergencia del modelo, por lo que es importante experimentar con diferentes valores para obtener los mejores resultados en función de tu conjunto de datos y requisitos específicos.\n"
      ],
      "metadata": {
        "id": "suDg9IW-XjcU"
      }
    },
    {
      "cell_type": "code",
      "source": [
        "# Instanciar MLP con 10 neuronas en una sola capa oculta, activación sigmoide y tasa de aprendizaje = 0.3\n",
        "# SU CODIGO AQUI"
      ],
      "metadata": {
        "id": "cocMCJjWXv_k"
      },
      "execution_count": null,
      "outputs": []
    },
    {
      "cell_type": "code",
      "source": [
        "# Ajustar modelos con datos de entrenamiento\n",
        "# SU CODIGO AQUI"
      ],
      "metadata": {
        "id": "Mhv8JIKeZqW9"
      },
      "execution_count": null,
      "outputs": []
    },
    {
      "cell_type": "markdown",
      "source": [
        "**Aclaración:**\n",
        "\n",
        "Cuando se utiliza `learning_rate='adaptive'` en algoritmos de optimización como SGD (Stochastic Gradient Descent) en un MLP (Perceptrón Multicapa), la tasa de aprendizaje se adapta dinámicamente durante el entrenamiento según el progreso del modelo.\n",
        "\n",
        "`'adaptive'` mantiene la tasa de aprendizaje constante en `learning_rate_init` siempre que el *training loss* siga disminuyendo. Cada vez que `n_iter_no_change` épocas consecutivas no logran disminuir  el *training loss* en al menos `tol`, o no logran aumentar el *validation score* en al menos `tol` si 'early_stopping' está activado, la tasa de aprendizaje actual se divide por 5."
      ],
      "metadata": {
        "id": "WscVOqivHfMb"
      }
    },
    {
      "cell_type": "code",
      "source": [
        "from sklearn.metrics import accuracy_score\n",
        "\n",
        "# Calcular la exactitud del modelo\n",
        "# SU CODIGO AQUI\n",
        "\n",
        "print(f\"Accuracy para modelo MLP: {acc}\")"
      ],
      "metadata": {
        "id": "ducParfBaBuW"
      },
      "execution_count": null,
      "outputs": []
    },
    {
      "cell_type": "markdown",
      "source": [
        "## Trabajo Autónomo: La Arquitectura de la Red Neuronal"
      ],
      "metadata": {
        "id": "6YzPxNRaoTkP"
      }
    },
    {
      "cell_type": "markdown",
      "source": [
        "### **Reto:**\n",
        "\n",
        "En el trabajo autónomo, se debe experimentar con la arquitectura de un Perceptrón Multicapa (MLP) para mejorar el desempeño de una red neuronal o el proceso de entrenamiento utilizando un modelo más óptimo. Utilizando el estimador MLP de scikit-learn, los estudiantes deben modificar la arquitectura de la red: el número de capas ocultas y el número de neuronas en cada capa. Se busca explorar diferentes combinaciones y realizar experimentos para evaluar cómo afectan al rendimiento de la red y al tiempo de entrenamiento.\n",
        "\n",
        "### **Contexto:**\n",
        "\n",
        "La arquitectura de una red neuronal de perceptrón multicapa (MLP) es fundamental ya que influye significativamente en el rendimiento y la capacidad de la red para aprender y generalizar a partir de los datos. La elección adecuada de la arquitectura puede determinar si la red neuronal es capaz de capturar las relaciones complejas presentes en los datos y evitar problemas como el sobreajuste o el subajuste.\n",
        "\n",
        "El número de capas ocultas en una MLP es un aspecto crítico de su arquitectura. Aunque no existe un criterio universalmente aceptado para determinar el número óptimo de capas ocultas, se pueden considerar varios factores al tomar esta decisión. Uno de los enfoques comunes es evaluar la complejidad del problema que se está abordando y la complejidad de los patrones presentes en los datos. Problemas más complejos pueden requerir una mayor profundidad de la red para capturar adecuadamente las características relevantes. Además, el tamaño del conjunto de datos y la disponibilidad de recursos computacionales también pueden influir en la elección del número de capas ocultas, ya que redes más profundas suelen requerir más recursos para entrenar y evaluar.\n",
        "\n",
        "### **Punto de partida:**\n",
        "\n",
        "El parámetro `hidden_layer_sizes` en el **MLPClassifier** se utiliza para especificar la arquitectura de la red neuronal, es decir, el número de capas ocultas y el número de neuronas en cada capa oculta.\n",
        "\n",
        "Para especificar tres capas ocultas con 5, 3 y 2 neuronas respectivamente, puedes pasar una tupla con los números deseados de neuronas para cada capa oculta. `hidden_layer_sizes=(5, 3, 2)` indica que la red neuronal tendrá tres capas ocultas, con la primera capa oculta conteniendo 5 neuronas, la segunda capa oculta conteniendo 3 neuronas, y la tercera capa oculta conteniendo 2 neuronas.\n",
        "\n",
        "Puedes personalizar la arquitectura de la red neuronal según tus necesidades específicas ajustando los números de neuronas en cada capa oculta. Es importante experimentar con diferentes arquitecturas para encontrar la que mejor se adapte a tu conjunto de datos y al problema que estás abordando."
      ],
      "metadata": {
        "id": "TQ6CKNVYoz6k"
      }
    },
    {
      "cell_type": "markdown",
      "source": [
        "# 2. Perceptrón Multi-capa para problemas de regresión"
      ],
      "metadata": {
        "id": "4hZDzcakk0WI"
      }
    },
    {
      "cell_type": "markdown",
      "source": [
        "En clase, hemos aprendido sobre el uso de Multilayer Perceptrons (MLP) para problemas de clasificación, donde el objetivo es predecir la clase a la que pertenece una observación. Sin embargo, los MLP también pueden ser utilizados para resolver problemas de regresión, donde el objetivo es predecir un valor numérico.\n",
        "\n",
        "## Cambios en la Función de Costo\n",
        "Para adaptar un MLP a un problema de regresión, necesitamos utilizar una función de costo diferente. En lugar de la **binary cross-entropy** utilizada para clasificación, en regresión utilizamos una función de costo como el **error cuadrático medio** (MSE, Mean Squared Error). Esta función de costo nos permite evaluar la discrepancia entre las predicciones del modelo y los valores reales en un contexto de regresión.\n",
        "\n",
        "## Funciones de Activación y Capa de Salida\n",
        "Además, en problemas de regresión, la capa de salida del MLP generalmente no utiliza una función de activación específica, ya que queremos predecir valores numéricos en lugar de probabilidades de clase. Por lo tanto, la capa de salida simplemente produce una salida lineal.\n",
        "\n",
        "## Ejemplo Práctico: Predicción de Emisiones de CO2\n",
        "Para ilustrar cómo usar un MLP para predecir las emisiones de CO2 de vehículos basado en características como el tamaño del motor, el número de cilindros y el consumo de combustible, entrenaríamos un MLP en un conjunto de datos de vehículos con emisiones de CO2 conocidas. Utilizaríamos el error cuadrático medio como nuestra función de costo. Una vez entrenado, podríamos usar el modelo para predecir las emisiones de CO2 de nuevos vehículos basados en estas características.\n"
      ],
      "metadata": {
        "id": "mY0Y6pYC8fdw"
      }
    },
    {
      "cell_type": "code",
      "source": [
        "print(\"Descargando Assets a Colab\")\n",
        "!wget --quiet --show-progress --output-document=CO2_Emissions.csv https://drive.google.com/uc?id=1cfK-lHayzGrEoDU2RXSR0juSok2K0k3H&export=download"
      ],
      "metadata": {
        "id": "m9u5IkUl9ftI"
      },
      "execution_count": null,
      "outputs": []
    },
    {
      "cell_type": "code",
      "source": [
        "import pandas as pd\n",
        "import numpy as np\n",
        "import matplotlib.pyplot as plt\n",
        "from sklearn.neural_network import MLPRegressor"
      ],
      "metadata": {
        "id": "tfPLDP_zGA3u"
      },
      "execution_count": null,
      "outputs": []
    },
    {
      "cell_type": "code",
      "source": [
        "# Cargamos los datos\n",
        "data = pd.read_csv(\"CO2_Emissions.csv\")\n",
        "data.head()"
      ],
      "metadata": {
        "id": "ZYULgy8qF2FQ"
      },
      "execution_count": null,
      "outputs": []
    },
    {
      "cell_type": "markdown",
      "source": [
        "## Preparación de Datos"
      ],
      "metadata": {
        "id": "a5vs5egPNqTq"
      }
    },
    {
      "cell_type": "code",
      "source": [
        "data.info()"
      ],
      "metadata": {
        "id": "kw6k5rtFGLr1"
      },
      "execution_count": null,
      "outputs": []
    },
    {
      "cell_type": "code",
      "source": [
        "data['Vehicle Class']=data['Vehicle Class'].astype('category')\n",
        "data.info()"
      ],
      "metadata": {
        "id": "CLQzMtsGIgD5"
      },
      "execution_count": null,
      "outputs": []
    },
    {
      "cell_type": "code",
      "source": [
        "# Descripción de variables numéricas\n",
        "data.describe()"
      ],
      "metadata": {
        "id": "2n_NzIyCGPk8"
      },
      "execution_count": null,
      "outputs": []
    },
    {
      "cell_type": "code",
      "source": [
        "# Descripción gráfica de variables categóricas con kind='barh'\n",
        "data['Vehicle Class'].value_counts().plot(kind=\"barh\")"
      ],
      "metadata": {
        "id": "49MEFZhwGYbp"
      },
      "execution_count": null,
      "outputs": []
    },
    {
      "cell_type": "code",
      "source": [
        "# Descripción gráfica de variables númericas con hist\n",
        "data.hist(figsize=(10, 10));"
      ],
      "metadata": {
        "id": "iRDxMCQLHJLs"
      },
      "execution_count": null,
      "outputs": []
    },
    {
      "cell_type": "code",
      "source": [
        "# Descripción gráfica de variables númericas con boxplots\n",
        "some_columns = data.drop(['CO2 Emissions(g/km)', 'Vehicle Class'], axis=1)\n",
        "some_columns.boxplot(figsize=(16, 4))"
      ],
      "metadata": {
        "id": "KMNO94CGHWYw"
      },
      "execution_count": null,
      "outputs": []
    },
    {
      "cell_type": "code",
      "source": [
        "# Descripción gráfica de variable objetivo con boxplot\n",
        "data[['CO2 Emissions(g/km)']].boxplot(figsize=(6, 4))"
      ],
      "metadata": {
        "id": "5tLpHMP2Ho67"
      },
      "execution_count": null,
      "outputs": []
    },
    {
      "cell_type": "markdown",
      "source": [
        "**Nota:** si bien los MLP pueden ser capaces de manejar cierto grado de outliers en los datos, es importante identificar y evaluar la necesidad de eliminar outliers antes de entrenar el modelo. La eliminación de outliers puede mejorar la calidad de los datos y, en última instancia, conducir a un mejor rendimiento del modelo. Sin embargo, la eliminación de outliers debe realizarse de manera cuidadosa y justificada, teniendo en cuenta el contexto del problema y el impacto potencial en los resultados del modelo."
      ],
      "metadata": {
        "id": "HsNqsPET2lgu"
      }
    },
    {
      "cell_type": "code",
      "source": [
        "# MLP sólo analiza variables numéricas. Transformar variables categóricas con dummies\n",
        "data = pd.get_dummies(data, columns=['Vehicle Class'], drop_first=False, dtype=int)\n",
        "data.head()"
      ],
      "metadata": {
        "id": "yN2WQL_2H-UQ"
      },
      "execution_count": null,
      "outputs": []
    },
    {
      "cell_type": "code",
      "source": [
        "from sklearn.model_selection import train_test_split\n",
        "from sklearn.preprocessing import MinMaxScaler\n",
        "\n",
        "# Separar Variable objetivo de variables independientes\n",
        "X = data.drop('CO2 Emissions(g/km)', axis = 1)\n",
        "y = data['CO2 Emissions(g/km)']\n",
        "\n",
        "# Dividir los datos en conjuntos de entrenamiento y prueba\n",
        "X_train, X_test, y_train, y_test = train_test_split(X, y, test_size=0.3)\n",
        "\n",
        "# Escalar los datos, el modelo solo ve datos de entrenamiento\n",
        "scaler = MinMaxScaler()\n",
        "X_train = scaler.fit_transform(X_train)\n",
        "X_test = scaler.transform(X_test)"
      ],
      "metadata": {
        "id": "EAbJKvxBJYrv"
      },
      "execution_count": null,
      "outputs": []
    },
    {
      "cell_type": "markdown",
      "source": [
        "## Creación del modelo y entrenamiento del MLP"
      ],
      "metadata": {
        "id": "Z89y70W1OCJY"
      }
    },
    {
      "cell_type": "code",
      "source": [
        "# Instanciar modelo con solver:adam, activacion:relu, 2 capas ocultas con 10 y 2 neuronas, lr_init=0.1, lr='adaptive'\n",
        "# SU CODIGO AQUI\n",
        "\n",
        "# Ajustar a los datos el modelo\n",
        "# SU CODIGO AQUI"
      ],
      "metadata": {
        "id": "yoOdcvMcJwUa"
      },
      "execution_count": null,
      "outputs": []
    },
    {
      "cell_type": "markdown",
      "source": [
        "### Curva de Pérdida\n",
        "\n",
        "El atributo `loss_curve_` en un modelo de MLP se refiere a la curva de pérdida durante el proceso de entrenamiento. Esta curva representa cómo cambia la función de pérdida del modelo en cada iteración del entrenamiento. La función de pérdida es una medida de cuánto difieren las predicciones del modelo de los valores reales durante el entrenamiento. Por lo general, durante el entrenamiento de un modelo de MLP, se busca minimizar esta función de pérdida, lo que implica que la curva de pérdida debería disminuir gradualmente con cada iteración."
      ],
      "metadata": {
        "id": "e-wjqnaSVsQH"
      }
    },
    {
      "cell_type": "code",
      "source": [
        "# Graficar el 'loss': desviación entre y_train y el y_pred (squared error)\n",
        "# SU CODIGO AQUI"
      ],
      "metadata": {
        "id": "C6D-h7IVHdUZ"
      },
      "execution_count": null,
      "outputs": []
    },
    {
      "cell_type": "code",
      "source": [
        "# Evaluación de NN\n",
        "from sklearn import metrics\n",
        "\n",
        "# Predicciones del modelos sobre conjunto de prueba\n",
        "# SU CODIGO AQUI\n",
        "\n",
        "# Medidas de error\n",
        "# SU CODIGO AQUI"
      ],
      "metadata": {
        "id": "fNErXUQ2IZHF"
      },
      "execution_count": null,
      "outputs": []
    },
    {
      "cell_type": "code",
      "source": [
        "# Gráfica Valor Real vs Predicción\n",
        "plt.scatter(y_test, y_pred)\n",
        "plt.plot([y_test.min(), y_test.max()], [y_test.min(), y_test.max()], 'k--', lw=2)\n",
        "plt.xlabel('Valor real')\n",
        "plt.ylabel('Valor del modelo')\n",
        "plt.title('Valor Real vs Predicción Red Neuronal')\n",
        "plt.show()"
      ],
      "metadata": {
        "id": "VyMCTDCbIs_E"
      },
      "execution_count": null,
      "outputs": []
    },
    {
      "cell_type": "markdown",
      "source": [
        " ### Representación de Pesos en la Red\n",
        "\n",
        " Representar visualmente una red neuronal con sus pesos y sesgos después del entrenamiento proporciona una valiosa intuición para los estudiantes. Al observar la arquitectura de la red con sus conexiones y valores de peso, los estudiantes pueden comprender de manera más concreta cómo la información se propaga a través de la red y cómo se realizan las decisiones en cada capa. Esto les permite internalizar conceptos abstractos de aprendizaje automático de una manera más tangencial y práctica."
      ],
      "metadata": {
        "id": "mWNOwxpucKnN"
      }
    },
    {
      "cell_type": "code",
      "source": [
        "# intercepts_ y coefs_ son listas, según la cantidad de capas en el MLP\n",
        "# SU CODIGO AQUI\n",
        "\n",
        "print(f'pesos en la red en una lista de tamaño: {capas}')\n",
        "print(f'biases en la red en una lista de tamaño:{capas}')"
      ],
      "metadata": {
        "id": "7Ey_25lUcYzY"
      },
      "execution_count": null,
      "outputs": []
    },
    {
      "cell_type": "code",
      "source": [
        "# Imprimir las matrices de pesos y bias en cada capa\n",
        "# SU CODIGO AQUI"
      ],
      "metadata": {
        "id": "2oRNrF4CdU-c"
      },
      "execution_count": null,
      "outputs": []
    },
    {
      "cell_type": "markdown",
      "source": [
        "## Trabajo Autónomo: La Arquitectura de la Red Neuronal\n",
        "\n",
        "\n",
        "El trabajo consiste en que los estudiantes representen visualmente la arquitectura de una red neuronal en papel, junto con las matrices de pesos y sesgos para cada capa. Esto permitirá ganar intuición sobre cómo se estructuran y manipulan los datos en una red neuronal a nivel matricial, lo que facilitará su comprensión de los cálculos que ocurren en cada capa durante el proceso de aprendizaje."
      ],
      "metadata": {
        "id": "v_KyTOkcgfaW"
      }
    }
  ]
}